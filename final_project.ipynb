{
  "cells": [
    {
      "cell_type": "markdown",
      "metadata": {
        "id": "view-in-github",
        "colab_type": "text"
      },
      "source": [
        "<a href=\"https://colab.research.google.com/github/KhomZ/The-Pragmatic-Programmer/blob/main/final_project.ipynb\" target=\"_parent\"><img src=\"https://colab.research.google.com/assets/colab-badge.svg\" alt=\"Open In Colab\"/></a>"
      ]
    },
    {
      "cell_type": "code",
      "execution_count": null,
      "metadata": {
        "id": "62-XQvcaKsaY"
      },
      "outputs": [],
      "source": [
        "# import the libraries as shown below\n",
        "\n",
        "from tensorflow.keras.layers import Input, Lambda, Dense, Flatten\n",
        "from tensorflow.keras.models import Model\n",
        "from tensorflow.keras.applications.resnet50 import ResNet50\n",
        "#from keras.applications.vgg16 import VGG16\n",
        "from tensorflow.keras.applications.resnet50 import preprocess_input\n",
        "from tensorflow.keras.preprocessing import image\n",
        "from tensorflow.keras.preprocessing.image import ImageDataGenerator,load_img\n",
        "from tensorflow.keras.models import Sequential\n",
        "import numpy as np\n",
        "from glob import glob\n",
        "import matplotlib.pyplot as plt"
      ]
    },
    {
      "cell_type": "code",
      "execution_count": null,
      "metadata": {
        "id": "dS44KEO-LBup"
      },
      "outputs": [],
      "source": [
        "# re-size all the images to this\n",
        "IMAGE_SIZE = [50,50]\n",
        "\n",
        "train_path = '/content/drive/MyDrive/Colab Notebooks/Project-major/Licenseplate_recognization-master/images_train'\n",
        "# valid_path = '/content/drive/MyDrive/Colab Notebooks/Project-major/Licenseplate_recognization-master/images_test'\n",
        "valid_path = '/content/drive/MyDrive/Colab Notebooks/Project-major/Licenseplate_recognization-master/test_data'"
      ]
    },
    {
      "cell_type": "code",
      "execution_count": null,
      "metadata": {
        "colab": {
          "base_uri": "https://localhost:8080/"
        },
        "id": "PxE8Y9ZvL_AN",
        "outputId": "5e88b6fc-ff51-484b-90eb-29f63545f36d"
      },
      "outputs": [
        {
          "name": "stdout",
          "output_type": "stream",
          "text": [
            "Downloading data from https://storage.googleapis.com/tensorflow/keras-applications/resnet/resnet50_weights_tf_dim_ordering_tf_kernels_notop.h5\n",
            "94773248/94765736 [==============================] - 1s 0us/step\n",
            "94781440/94765736 [==============================] - 1s 0us/step\n"
          ]
        }
      ],
      "source": [
        "# Import the Vgg 16 library as shown below and add preprocessing layer to the front of VGG\n",
        "# Here we will be using imagenet weights\n",
        "\n",
        "resnet = ResNet50(input_shape=IMAGE_SIZE + [3], weights='imagenet', include_top=False)\n"
      ]
    },
    {
      "cell_type": "code",
      "execution_count": null,
      "metadata": {
        "id": "Zahnn3ZrMXKD"
      },
      "outputs": [],
      "source": [
        "for layer in resnet.layers:\n",
        "    layer.trainable = False"
      ]
    },
    {
      "cell_type": "code",
      "execution_count": null,
      "metadata": {
        "id": "cBlFp5f_LMHc"
      },
      "outputs": [],
      "source": [
        "  # useful for getting number of output classes\n",
        "folders = glob('/content/drive/MyDrive/Colab Notebooks/Project-major/Licenseplate_recognization-master/images_train/*')"
      ]
    },
    {
      "cell_type": "code",
      "execution_count": null,
      "metadata": {
        "id": "EqPlfO44NIbi"
      },
      "outputs": [],
      "source": [
        "# our layers - you can add more if you want\n",
        "x = Flatten()(resnet.output)"
      ]
    },
    {
      "cell_type": "code",
      "execution_count": null,
      "metadata": {
        "id": "2sfcxHXFNiyQ"
      },
      "outputs": [],
      "source": [
        "prediction = Dense(len(folders), activation='softmax')(x)\n",
        "\n",
        "# create a model object\n",
        "model = Model(inputs=resnet.input, outputs=prediction)"
      ]
    },
    {
      "cell_type": "code",
      "execution_count": null,
      "metadata": {
        "colab": {
          "base_uri": "https://localhost:8080/"
        },
        "id": "QNVZb2ZSNnIH",
        "outputId": "54168d07-193a-48e2-a5cd-e9f73acb46bf"
      },
      "outputs": [
        {
          "name": "stdout",
          "output_type": "stream",
          "text": [
            "Model: \"model\"\n",
            "__________________________________________________________________________________________________\n",
            " Layer (type)                   Output Shape         Param #     Connected to                     \n",
            "==================================================================================================\n",
            " input_1 (InputLayer)           [(None, 50, 50, 3)]  0           []                               \n",
            "                                                                                                  \n",
            " conv1_pad (ZeroPadding2D)      (None, 56, 56, 3)    0           ['input_1[0][0]']                \n",
            "                                                                                                  \n",
            " conv1_conv (Conv2D)            (None, 25, 25, 64)   9472        ['conv1_pad[0][0]']              \n",
            "                                                                                                  \n",
            " conv1_bn (BatchNormalization)  (None, 25, 25, 64)   256         ['conv1_conv[0][0]']             \n",
            "                                                                                                  \n",
            " conv1_relu (Activation)        (None, 25, 25, 64)   0           ['conv1_bn[0][0]']               \n",
            "                                                                                                  \n",
            " pool1_pad (ZeroPadding2D)      (None, 27, 27, 64)   0           ['conv1_relu[0][0]']             \n",
            "                                                                                                  \n",
            " pool1_pool (MaxPooling2D)      (None, 13, 13, 64)   0           ['pool1_pad[0][0]']              \n",
            "                                                                                                  \n",
            " conv2_block1_1_conv (Conv2D)   (None, 13, 13, 64)   4160        ['pool1_pool[0][0]']             \n",
            "                                                                                                  \n",
            " conv2_block1_1_bn (BatchNormal  (None, 13, 13, 64)  256         ['conv2_block1_1_conv[0][0]']    \n",
            " ization)                                                                                         \n",
            "                                                                                                  \n",
            " conv2_block1_1_relu (Activatio  (None, 13, 13, 64)  0           ['conv2_block1_1_bn[0][0]']      \n",
            " n)                                                                                               \n",
            "                                                                                                  \n",
            " conv2_block1_2_conv (Conv2D)   (None, 13, 13, 64)   36928       ['conv2_block1_1_relu[0][0]']    \n",
            "                                                                                                  \n",
            " conv2_block1_2_bn (BatchNormal  (None, 13, 13, 64)  256         ['conv2_block1_2_conv[0][0]']    \n",
            " ization)                                                                                         \n",
            "                                                                                                  \n",
            " conv2_block1_2_relu (Activatio  (None, 13, 13, 64)  0           ['conv2_block1_2_bn[0][0]']      \n",
            " n)                                                                                               \n",
            "                                                                                                  \n",
            " conv2_block1_0_conv (Conv2D)   (None, 13, 13, 256)  16640       ['pool1_pool[0][0]']             \n",
            "                                                                                                  \n",
            " conv2_block1_3_conv (Conv2D)   (None, 13, 13, 256)  16640       ['conv2_block1_2_relu[0][0]']    \n",
            "                                                                                                  \n",
            " conv2_block1_0_bn (BatchNormal  (None, 13, 13, 256)  1024       ['conv2_block1_0_conv[0][0]']    \n",
            " ization)                                                                                         \n",
            "                                                                                                  \n",
            " conv2_block1_3_bn (BatchNormal  (None, 13, 13, 256)  1024       ['conv2_block1_3_conv[0][0]']    \n",
            " ization)                                                                                         \n",
            "                                                                                                  \n",
            " conv2_block1_add (Add)         (None, 13, 13, 256)  0           ['conv2_block1_0_bn[0][0]',      \n",
            "                                                                  'conv2_block1_3_bn[0][0]']      \n",
            "                                                                                                  \n",
            " conv2_block1_out (Activation)  (None, 13, 13, 256)  0           ['conv2_block1_add[0][0]']       \n",
            "                                                                                                  \n",
            " conv2_block2_1_conv (Conv2D)   (None, 13, 13, 64)   16448       ['conv2_block1_out[0][0]']       \n",
            "                                                                                                  \n",
            " conv2_block2_1_bn (BatchNormal  (None, 13, 13, 64)  256         ['conv2_block2_1_conv[0][0]']    \n",
            " ization)                                                                                         \n",
            "                                                                                                  \n",
            " conv2_block2_1_relu (Activatio  (None, 13, 13, 64)  0           ['conv2_block2_1_bn[0][0]']      \n",
            " n)                                                                                               \n",
            "                                                                                                  \n",
            " conv2_block2_2_conv (Conv2D)   (None, 13, 13, 64)   36928       ['conv2_block2_1_relu[0][0]']    \n",
            "                                                                                                  \n",
            " conv2_block2_2_bn (BatchNormal  (None, 13, 13, 64)  256         ['conv2_block2_2_conv[0][0]']    \n",
            " ization)                                                                                         \n",
            "                                                                                                  \n",
            " conv2_block2_2_relu (Activatio  (None, 13, 13, 64)  0           ['conv2_block2_2_bn[0][0]']      \n",
            " n)                                                                                               \n",
            "                                                                                                  \n",
            " conv2_block2_3_conv (Conv2D)   (None, 13, 13, 256)  16640       ['conv2_block2_2_relu[0][0]']    \n",
            "                                                                                                  \n",
            " conv2_block2_3_bn (BatchNormal  (None, 13, 13, 256)  1024       ['conv2_block2_3_conv[0][0]']    \n",
            " ization)                                                                                         \n",
            "                                                                                                  \n",
            " conv2_block2_add (Add)         (None, 13, 13, 256)  0           ['conv2_block1_out[0][0]',       \n",
            "                                                                  'conv2_block2_3_bn[0][0]']      \n",
            "                                                                                                  \n",
            " conv2_block2_out (Activation)  (None, 13, 13, 256)  0           ['conv2_block2_add[0][0]']       \n",
            "                                                                                                  \n",
            " conv2_block3_1_conv (Conv2D)   (None, 13, 13, 64)   16448       ['conv2_block2_out[0][0]']       \n",
            "                                                                                                  \n",
            " conv2_block3_1_bn (BatchNormal  (None, 13, 13, 64)  256         ['conv2_block3_1_conv[0][0]']    \n",
            " ization)                                                                                         \n",
            "                                                                                                  \n",
            " conv2_block3_1_relu (Activatio  (None, 13, 13, 64)  0           ['conv2_block3_1_bn[0][0]']      \n",
            " n)                                                                                               \n",
            "                                                                                                  \n",
            " conv2_block3_2_conv (Conv2D)   (None, 13, 13, 64)   36928       ['conv2_block3_1_relu[0][0]']    \n",
            "                                                                                                  \n",
            " conv2_block3_2_bn (BatchNormal  (None, 13, 13, 64)  256         ['conv2_block3_2_conv[0][0]']    \n",
            " ization)                                                                                         \n",
            "                                                                                                  \n",
            " conv2_block3_2_relu (Activatio  (None, 13, 13, 64)  0           ['conv2_block3_2_bn[0][0]']      \n",
            " n)                                                                                               \n",
            "                                                                                                  \n",
            " conv2_block3_3_conv (Conv2D)   (None, 13, 13, 256)  16640       ['conv2_block3_2_relu[0][0]']    \n",
            "                                                                                                  \n",
            " conv2_block3_3_bn (BatchNormal  (None, 13, 13, 256)  1024       ['conv2_block3_3_conv[0][0]']    \n",
            " ization)                                                                                         \n",
            "                                                                                                  \n",
            " conv2_block3_add (Add)         (None, 13, 13, 256)  0           ['conv2_block2_out[0][0]',       \n",
            "                                                                  'conv2_block3_3_bn[0][0]']      \n",
            "                                                                                                  \n",
            " conv2_block3_out (Activation)  (None, 13, 13, 256)  0           ['conv2_block3_add[0][0]']       \n",
            "                                                                                                  \n",
            " conv3_block1_1_conv (Conv2D)   (None, 7, 7, 128)    32896       ['conv2_block3_out[0][0]']       \n",
            "                                                                                                  \n",
            " conv3_block1_1_bn (BatchNormal  (None, 7, 7, 128)   512         ['conv3_block1_1_conv[0][0]']    \n",
            " ization)                                                                                         \n",
            "                                                                                                  \n",
            " conv3_block1_1_relu (Activatio  (None, 7, 7, 128)   0           ['conv3_block1_1_bn[0][0]']      \n",
            " n)                                                                                               \n",
            "                                                                                                  \n",
            " conv3_block1_2_conv (Conv2D)   (None, 7, 7, 128)    147584      ['conv3_block1_1_relu[0][0]']    \n",
            "                                                                                                  \n",
            " conv3_block1_2_bn (BatchNormal  (None, 7, 7, 128)   512         ['conv3_block1_2_conv[0][0]']    \n",
            " ization)                                                                                         \n",
            "                                                                                                  \n",
            " conv3_block1_2_relu (Activatio  (None, 7, 7, 128)   0           ['conv3_block1_2_bn[0][0]']      \n",
            " n)                                                                                               \n",
            "                                                                                                  \n",
            " conv3_block1_0_conv (Conv2D)   (None, 7, 7, 512)    131584      ['conv2_block3_out[0][0]']       \n",
            "                                                                                                  \n",
            " conv3_block1_3_conv (Conv2D)   (None, 7, 7, 512)    66048       ['conv3_block1_2_relu[0][0]']    \n",
            "                                                                                                  \n",
            " conv3_block1_0_bn (BatchNormal  (None, 7, 7, 512)   2048        ['conv3_block1_0_conv[0][0]']    \n",
            " ization)                                                                                         \n",
            "                                                                                                  \n",
            " conv3_block1_3_bn (BatchNormal  (None, 7, 7, 512)   2048        ['conv3_block1_3_conv[0][0]']    \n",
            " ization)                                                                                         \n",
            "                                                                                                  \n",
            " conv3_block1_add (Add)         (None, 7, 7, 512)    0           ['conv3_block1_0_bn[0][0]',      \n",
            "                                                                  'conv3_block1_3_bn[0][0]']      \n",
            "                                                                                                  \n",
            " conv3_block1_out (Activation)  (None, 7, 7, 512)    0           ['conv3_block1_add[0][0]']       \n",
            "                                                                                                  \n",
            " conv3_block2_1_conv (Conv2D)   (None, 7, 7, 128)    65664       ['conv3_block1_out[0][0]']       \n",
            "                                                                                                  \n",
            " conv3_block2_1_bn (BatchNormal  (None, 7, 7, 128)   512         ['conv3_block2_1_conv[0][0]']    \n",
            " ization)                                                                                         \n",
            "                                                                                                  \n",
            " conv3_block2_1_relu (Activatio  (None, 7, 7, 128)   0           ['conv3_block2_1_bn[0][0]']      \n",
            " n)                                                                                               \n",
            "                                                                                                  \n",
            " conv3_block2_2_conv (Conv2D)   (None, 7, 7, 128)    147584      ['conv3_block2_1_relu[0][0]']    \n",
            "                                                                                                  \n",
            " conv3_block2_2_bn (BatchNormal  (None, 7, 7, 128)   512         ['conv3_block2_2_conv[0][0]']    \n",
            " ization)                                                                                         \n",
            "                                                                                                  \n",
            " conv3_block2_2_relu (Activatio  (None, 7, 7, 128)   0           ['conv3_block2_2_bn[0][0]']      \n",
            " n)                                                                                               \n",
            "                                                                                                  \n",
            " conv3_block2_3_conv (Conv2D)   (None, 7, 7, 512)    66048       ['conv3_block2_2_relu[0][0]']    \n",
            "                                                                                                  \n",
            " conv3_block2_3_bn (BatchNormal  (None, 7, 7, 512)   2048        ['conv3_block2_3_conv[0][0]']    \n",
            " ization)                                                                                         \n",
            "                                                                                                  \n",
            " conv3_block2_add (Add)         (None, 7, 7, 512)    0           ['conv3_block1_out[0][0]',       \n",
            "                                                                  'conv3_block2_3_bn[0][0]']      \n",
            "                                                                                                  \n",
            " conv3_block2_out (Activation)  (None, 7, 7, 512)    0           ['conv3_block2_add[0][0]']       \n",
            "                                                                                                  \n",
            " conv3_block3_1_conv (Conv2D)   (None, 7, 7, 128)    65664       ['conv3_block2_out[0][0]']       \n",
            "                                                                                                  \n",
            " conv3_block3_1_bn (BatchNormal  (None, 7, 7, 128)   512         ['conv3_block3_1_conv[0][0]']    \n",
            " ization)                                                                                         \n",
            "                                                                                                  \n",
            " conv3_block3_1_relu (Activatio  (None, 7, 7, 128)   0           ['conv3_block3_1_bn[0][0]']      \n",
            " n)                                                                                               \n",
            "                                                                                                  \n",
            " conv3_block3_2_conv (Conv2D)   (None, 7, 7, 128)    147584      ['conv3_block3_1_relu[0][0]']    \n",
            "                                                                                                  \n",
            " conv3_block3_2_bn (BatchNormal  (None, 7, 7, 128)   512         ['conv3_block3_2_conv[0][0]']    \n",
            " ization)                                                                                         \n",
            "                                                                                                  \n",
            " conv3_block3_2_relu (Activatio  (None, 7, 7, 128)   0           ['conv3_block3_2_bn[0][0]']      \n",
            " n)                                                                                               \n",
            "                                                                                                  \n",
            " conv3_block3_3_conv (Conv2D)   (None, 7, 7, 512)    66048       ['conv3_block3_2_relu[0][0]']    \n",
            "                                                                                                  \n",
            " conv3_block3_3_bn (BatchNormal  (None, 7, 7, 512)   2048        ['conv3_block3_3_conv[0][0]']    \n",
            " ization)                                                                                         \n",
            "                                                                                                  \n",
            " conv3_block3_add (Add)         (None, 7, 7, 512)    0           ['conv3_block2_out[0][0]',       \n",
            "                                                                  'conv3_block3_3_bn[0][0]']      \n",
            "                                                                                                  \n",
            " conv3_block3_out (Activation)  (None, 7, 7, 512)    0           ['conv3_block3_add[0][0]']       \n",
            "                                                                                                  \n",
            " conv3_block4_1_conv (Conv2D)   (None, 7, 7, 128)    65664       ['conv3_block3_out[0][0]']       \n",
            "                                                                                                  \n",
            " conv3_block4_1_bn (BatchNormal  (None, 7, 7, 128)   512         ['conv3_block4_1_conv[0][0]']    \n",
            " ization)                                                                                         \n",
            "                                                                                                  \n",
            " conv3_block4_1_relu (Activatio  (None, 7, 7, 128)   0           ['conv3_block4_1_bn[0][0]']      \n",
            " n)                                                                                               \n",
            "                                                                                                  \n",
            " conv3_block4_2_conv (Conv2D)   (None, 7, 7, 128)    147584      ['conv3_block4_1_relu[0][0]']    \n",
            "                                                                                                  \n",
            " conv3_block4_2_bn (BatchNormal  (None, 7, 7, 128)   512         ['conv3_block4_2_conv[0][0]']    \n",
            " ization)                                                                                         \n",
            "                                                                                                  \n",
            " conv3_block4_2_relu (Activatio  (None, 7, 7, 128)   0           ['conv3_block4_2_bn[0][0]']      \n",
            " n)                                                                                               \n",
            "                                                                                                  \n",
            " conv3_block4_3_conv (Conv2D)   (None, 7, 7, 512)    66048       ['conv3_block4_2_relu[0][0]']    \n",
            "                                                                                                  \n",
            " conv3_block4_3_bn (BatchNormal  (None, 7, 7, 512)   2048        ['conv3_block4_3_conv[0][0]']    \n",
            " ization)                                                                                         \n",
            "                                                                                                  \n",
            " conv3_block4_add (Add)         (None, 7, 7, 512)    0           ['conv3_block3_out[0][0]',       \n",
            "                                                                  'conv3_block4_3_bn[0][0]']      \n",
            "                                                                                                  \n",
            " conv3_block4_out (Activation)  (None, 7, 7, 512)    0           ['conv3_block4_add[0][0]']       \n",
            "                                                                                                  \n",
            " conv4_block1_1_conv (Conv2D)   (None, 4, 4, 256)    131328      ['conv3_block4_out[0][0]']       \n",
            "                                                                                                  \n",
            " conv4_block1_1_bn (BatchNormal  (None, 4, 4, 256)   1024        ['conv4_block1_1_conv[0][0]']    \n",
            " ization)                                                                                         \n",
            "                                                                                                  \n",
            " conv4_block1_1_relu (Activatio  (None, 4, 4, 256)   0           ['conv4_block1_1_bn[0][0]']      \n",
            " n)                                                                                               \n",
            "                                                                                                  \n",
            " conv4_block1_2_conv (Conv2D)   (None, 4, 4, 256)    590080      ['conv4_block1_1_relu[0][0]']    \n",
            "                                                                                                  \n",
            " conv4_block1_2_bn (BatchNormal  (None, 4, 4, 256)   1024        ['conv4_block1_2_conv[0][0]']    \n",
            " ization)                                                                                         \n",
            "                                                                                                  \n",
            " conv4_block1_2_relu (Activatio  (None, 4, 4, 256)   0           ['conv4_block1_2_bn[0][0]']      \n",
            " n)                                                                                               \n",
            "                                                                                                  \n",
            " conv4_block1_0_conv (Conv2D)   (None, 4, 4, 1024)   525312      ['conv3_block4_out[0][0]']       \n",
            "                                                                                                  \n",
            " conv4_block1_3_conv (Conv2D)   (None, 4, 4, 1024)   263168      ['conv4_block1_2_relu[0][0]']    \n",
            "                                                                                                  \n",
            " conv4_block1_0_bn (BatchNormal  (None, 4, 4, 1024)  4096        ['conv4_block1_0_conv[0][0]']    \n",
            " ization)                                                                                         \n",
            "                                                                                                  \n",
            " conv4_block1_3_bn (BatchNormal  (None, 4, 4, 1024)  4096        ['conv4_block1_3_conv[0][0]']    \n",
            " ization)                                                                                         \n",
            "                                                                                                  \n",
            " conv4_block1_add (Add)         (None, 4, 4, 1024)   0           ['conv4_block1_0_bn[0][0]',      \n",
            "                                                                  'conv4_block1_3_bn[0][0]']      \n",
            "                                                                                                  \n",
            " conv4_block1_out (Activation)  (None, 4, 4, 1024)   0           ['conv4_block1_add[0][0]']       \n",
            "                                                                                                  \n",
            " conv4_block2_1_conv (Conv2D)   (None, 4, 4, 256)    262400      ['conv4_block1_out[0][0]']       \n",
            "                                                                                                  \n",
            " conv4_block2_1_bn (BatchNormal  (None, 4, 4, 256)   1024        ['conv4_block2_1_conv[0][0]']    \n",
            " ization)                                                                                         \n",
            "                                                                                                  \n",
            " conv4_block2_1_relu (Activatio  (None, 4, 4, 256)   0           ['conv4_block2_1_bn[0][0]']      \n",
            " n)                                                                                               \n",
            "                                                                                                  \n",
            " conv4_block2_2_conv (Conv2D)   (None, 4, 4, 256)    590080      ['conv4_block2_1_relu[0][0]']    \n",
            "                                                                                                  \n",
            " conv4_block2_2_bn (BatchNormal  (None, 4, 4, 256)   1024        ['conv4_block2_2_conv[0][0]']    \n",
            " ization)                                                                                         \n",
            "                                                                                                  \n",
            " conv4_block2_2_relu (Activatio  (None, 4, 4, 256)   0           ['conv4_block2_2_bn[0][0]']      \n",
            " n)                                                                                               \n",
            "                                                                                                  \n",
            " conv4_block2_3_conv (Conv2D)   (None, 4, 4, 1024)   263168      ['conv4_block2_2_relu[0][0]']    \n",
            "                                                                                                  \n",
            " conv4_block2_3_bn (BatchNormal  (None, 4, 4, 1024)  4096        ['conv4_block2_3_conv[0][0]']    \n",
            " ization)                                                                                         \n",
            "                                                                                                  \n",
            " conv4_block2_add (Add)         (None, 4, 4, 1024)   0           ['conv4_block1_out[0][0]',       \n",
            "                                                                  'conv4_block2_3_bn[0][0]']      \n",
            "                                                                                                  \n",
            " conv4_block2_out (Activation)  (None, 4, 4, 1024)   0           ['conv4_block2_add[0][0]']       \n",
            "                                                                                                  \n",
            " conv4_block3_1_conv (Conv2D)   (None, 4, 4, 256)    262400      ['conv4_block2_out[0][0]']       \n",
            "                                                                                                  \n",
            " conv4_block3_1_bn (BatchNormal  (None, 4, 4, 256)   1024        ['conv4_block3_1_conv[0][0]']    \n",
            " ization)                                                                                         \n",
            "                                                                                                  \n",
            " conv4_block3_1_relu (Activatio  (None, 4, 4, 256)   0           ['conv4_block3_1_bn[0][0]']      \n",
            " n)                                                                                               \n",
            "                                                                                                  \n",
            " conv4_block3_2_conv (Conv2D)   (None, 4, 4, 256)    590080      ['conv4_block3_1_relu[0][0]']    \n",
            "                                                                                                  \n",
            " conv4_block3_2_bn (BatchNormal  (None, 4, 4, 256)   1024        ['conv4_block3_2_conv[0][0]']    \n",
            " ization)                                                                                         \n",
            "                                                                                                  \n",
            " conv4_block3_2_relu (Activatio  (None, 4, 4, 256)   0           ['conv4_block3_2_bn[0][0]']      \n",
            " n)                                                                                               \n",
            "                                                                                                  \n",
            " conv4_block3_3_conv (Conv2D)   (None, 4, 4, 1024)   263168      ['conv4_block3_2_relu[0][0]']    \n",
            "                                                                                                  \n",
            " conv4_block3_3_bn (BatchNormal  (None, 4, 4, 1024)  4096        ['conv4_block3_3_conv[0][0]']    \n",
            " ization)                                                                                         \n",
            "                                                                                                  \n",
            " conv4_block3_add (Add)         (None, 4, 4, 1024)   0           ['conv4_block2_out[0][0]',       \n",
            "                                                                  'conv4_block3_3_bn[0][0]']      \n",
            "                                                                                                  \n",
            " conv4_block3_out (Activation)  (None, 4, 4, 1024)   0           ['conv4_block3_add[0][0]']       \n",
            "                                                                                                  \n",
            " conv4_block4_1_conv (Conv2D)   (None, 4, 4, 256)    262400      ['conv4_block3_out[0][0]']       \n",
            "                                                                                                  \n",
            " conv4_block4_1_bn (BatchNormal  (None, 4, 4, 256)   1024        ['conv4_block4_1_conv[0][0]']    \n",
            " ization)                                                                                         \n",
            "                                                                                                  \n",
            " conv4_block4_1_relu (Activatio  (None, 4, 4, 256)   0           ['conv4_block4_1_bn[0][0]']      \n",
            " n)                                                                                               \n",
            "                                                                                                  \n",
            " conv4_block4_2_conv (Conv2D)   (None, 4, 4, 256)    590080      ['conv4_block4_1_relu[0][0]']    \n",
            "                                                                                                  \n",
            " conv4_block4_2_bn (BatchNormal  (None, 4, 4, 256)   1024        ['conv4_block4_2_conv[0][0]']    \n",
            " ization)                                                                                         \n",
            "                                                                                                  \n",
            " conv4_block4_2_relu (Activatio  (None, 4, 4, 256)   0           ['conv4_block4_2_bn[0][0]']      \n",
            " n)                                                                                               \n",
            "                                                                                                  \n",
            " conv4_block4_3_conv (Conv2D)   (None, 4, 4, 1024)   263168      ['conv4_block4_2_relu[0][0]']    \n",
            "                                                                                                  \n",
            " conv4_block4_3_bn (BatchNormal  (None, 4, 4, 1024)  4096        ['conv4_block4_3_conv[0][0]']    \n",
            " ization)                                                                                         \n",
            "                                                                                                  \n",
            " conv4_block4_add (Add)         (None, 4, 4, 1024)   0           ['conv4_block3_out[0][0]',       \n",
            "                                                                  'conv4_block4_3_bn[0][0]']      \n",
            "                                                                                                  \n",
            " conv4_block4_out (Activation)  (None, 4, 4, 1024)   0           ['conv4_block4_add[0][0]']       \n",
            "                                                                                                  \n",
            " conv4_block5_1_conv (Conv2D)   (None, 4, 4, 256)    262400      ['conv4_block4_out[0][0]']       \n",
            "                                                                                                  \n",
            " conv4_block5_1_bn (BatchNormal  (None, 4, 4, 256)   1024        ['conv4_block5_1_conv[0][0]']    \n",
            " ization)                                                                                         \n",
            "                                                                                                  \n",
            " conv4_block5_1_relu (Activatio  (None, 4, 4, 256)   0           ['conv4_block5_1_bn[0][0]']      \n",
            " n)                                                                                               \n",
            "                                                                                                  \n",
            " conv4_block5_2_conv (Conv2D)   (None, 4, 4, 256)    590080      ['conv4_block5_1_relu[0][0]']    \n",
            "                                                                                                  \n",
            " conv4_block5_2_bn (BatchNormal  (None, 4, 4, 256)   1024        ['conv4_block5_2_conv[0][0]']    \n",
            " ization)                                                                                         \n",
            "                                                                                                  \n",
            " conv4_block5_2_relu (Activatio  (None, 4, 4, 256)   0           ['conv4_block5_2_bn[0][0]']      \n",
            " n)                                                                                               \n",
            "                                                                                                  \n",
            " conv4_block5_3_conv (Conv2D)   (None, 4, 4, 1024)   263168      ['conv4_block5_2_relu[0][0]']    \n",
            "                                                                                                  \n",
            " conv4_block5_3_bn (BatchNormal  (None, 4, 4, 1024)  4096        ['conv4_block5_3_conv[0][0]']    \n",
            " ization)                                                                                         \n",
            "                                                                                                  \n",
            " conv4_block5_add (Add)         (None, 4, 4, 1024)   0           ['conv4_block4_out[0][0]',       \n",
            "                                                                  'conv4_block5_3_bn[0][0]']      \n",
            "                                                                                                  \n",
            " conv4_block5_out (Activation)  (None, 4, 4, 1024)   0           ['conv4_block5_add[0][0]']       \n",
            "                                                                                                  \n",
            " conv4_block6_1_conv (Conv2D)   (None, 4, 4, 256)    262400      ['conv4_block5_out[0][0]']       \n",
            "                                                                                                  \n",
            " conv4_block6_1_bn (BatchNormal  (None, 4, 4, 256)   1024        ['conv4_block6_1_conv[0][0]']    \n",
            " ization)                                                                                         \n",
            "                                                                                                  \n",
            " conv4_block6_1_relu (Activatio  (None, 4, 4, 256)   0           ['conv4_block6_1_bn[0][0]']      \n",
            " n)                                                                                               \n",
            "                                                                                                  \n",
            " conv4_block6_2_conv (Conv2D)   (None, 4, 4, 256)    590080      ['conv4_block6_1_relu[0][0]']    \n",
            "                                                                                                  \n",
            " conv4_block6_2_bn (BatchNormal  (None, 4, 4, 256)   1024        ['conv4_block6_2_conv[0][0]']    \n",
            " ization)                                                                                         \n",
            "                                                                                                  \n",
            " conv4_block6_2_relu (Activatio  (None, 4, 4, 256)   0           ['conv4_block6_2_bn[0][0]']      \n",
            " n)                                                                                               \n",
            "                                                                                                  \n",
            " conv4_block6_3_conv (Conv2D)   (None, 4, 4, 1024)   263168      ['conv4_block6_2_relu[0][0]']    \n",
            "                                                                                                  \n",
            " conv4_block6_3_bn (BatchNormal  (None, 4, 4, 1024)  4096        ['conv4_block6_3_conv[0][0]']    \n",
            " ization)                                                                                         \n",
            "                                                                                                  \n",
            " conv4_block6_add (Add)         (None, 4, 4, 1024)   0           ['conv4_block5_out[0][0]',       \n",
            "                                                                  'conv4_block6_3_bn[0][0]']      \n",
            "                                                                                                  \n",
            " conv4_block6_out (Activation)  (None, 4, 4, 1024)   0           ['conv4_block6_add[0][0]']       \n",
            "                                                                                                  \n",
            " conv5_block1_1_conv (Conv2D)   (None, 2, 2, 512)    524800      ['conv4_block6_out[0][0]']       \n",
            "                                                                                                  \n",
            " conv5_block1_1_bn (BatchNormal  (None, 2, 2, 512)   2048        ['conv5_block1_1_conv[0][0]']    \n",
            " ization)                                                                                         \n",
            "                                                                                                  \n",
            " conv5_block1_1_relu (Activatio  (None, 2, 2, 512)   0           ['conv5_block1_1_bn[0][0]']      \n",
            " n)                                                                                               \n",
            "                                                                                                  \n",
            " conv5_block1_2_conv (Conv2D)   (None, 2, 2, 512)    2359808     ['conv5_block1_1_relu[0][0]']    \n",
            "                                                                                                  \n",
            " conv5_block1_2_bn (BatchNormal  (None, 2, 2, 512)   2048        ['conv5_block1_2_conv[0][0]']    \n",
            " ization)                                                                                         \n",
            "                                                                                                  \n",
            " conv5_block1_2_relu (Activatio  (None, 2, 2, 512)   0           ['conv5_block1_2_bn[0][0]']      \n",
            " n)                                                                                               \n",
            "                                                                                                  \n",
            " conv5_block1_0_conv (Conv2D)   (None, 2, 2, 2048)   2099200     ['conv4_block6_out[0][0]']       \n",
            "                                                                                                  \n",
            " conv5_block1_3_conv (Conv2D)   (None, 2, 2, 2048)   1050624     ['conv5_block1_2_relu[0][0]']    \n",
            "                                                                                                  \n",
            " conv5_block1_0_bn (BatchNormal  (None, 2, 2, 2048)  8192        ['conv5_block1_0_conv[0][0]']    \n",
            " ization)                                                                                         \n",
            "                                                                                                  \n",
            " conv5_block1_3_bn (BatchNormal  (None, 2, 2, 2048)  8192        ['conv5_block1_3_conv[0][0]']    \n",
            " ization)                                                                                         \n",
            "                                                                                                  \n",
            " conv5_block1_add (Add)         (None, 2, 2, 2048)   0           ['conv5_block1_0_bn[0][0]',      \n",
            "                                                                  'conv5_block1_3_bn[0][0]']      \n",
            "                                                                                                  \n",
            " conv5_block1_out (Activation)  (None, 2, 2, 2048)   0           ['conv5_block1_add[0][0]']       \n",
            "                                                                                                  \n",
            " conv5_block2_1_conv (Conv2D)   (None, 2, 2, 512)    1049088     ['conv5_block1_out[0][0]']       \n",
            "                                                                                                  \n",
            " conv5_block2_1_bn (BatchNormal  (None, 2, 2, 512)   2048        ['conv5_block2_1_conv[0][0]']    \n",
            " ization)                                                                                         \n",
            "                                                                                                  \n",
            " conv5_block2_1_relu (Activatio  (None, 2, 2, 512)   0           ['conv5_block2_1_bn[0][0]']      \n",
            " n)                                                                                               \n",
            "                                                                                                  \n",
            " conv5_block2_2_conv (Conv2D)   (None, 2, 2, 512)    2359808     ['conv5_block2_1_relu[0][0]']    \n",
            "                                                                                                  \n",
            " conv5_block2_2_bn (BatchNormal  (None, 2, 2, 512)   2048        ['conv5_block2_2_conv[0][0]']    \n",
            " ization)                                                                                         \n",
            "                                                                                                  \n",
            " conv5_block2_2_relu (Activatio  (None, 2, 2, 512)   0           ['conv5_block2_2_bn[0][0]']      \n",
            " n)                                                                                               \n",
            "                                                                                                  \n",
            " conv5_block2_3_conv (Conv2D)   (None, 2, 2, 2048)   1050624     ['conv5_block2_2_relu[0][0]']    \n",
            "                                                                                                  \n",
            " conv5_block2_3_bn (BatchNormal  (None, 2, 2, 2048)  8192        ['conv5_block2_3_conv[0][0]']    \n",
            " ization)                                                                                         \n",
            "                                                                                                  \n",
            " conv5_block2_add (Add)         (None, 2, 2, 2048)   0           ['conv5_block1_out[0][0]',       \n",
            "                                                                  'conv5_block2_3_bn[0][0]']      \n",
            "                                                                                                  \n",
            " conv5_block2_out (Activation)  (None, 2, 2, 2048)   0           ['conv5_block2_add[0][0]']       \n",
            "                                                                                                  \n",
            " conv5_block3_1_conv (Conv2D)   (None, 2, 2, 512)    1049088     ['conv5_block2_out[0][0]']       \n",
            "                                                                                                  \n",
            " conv5_block3_1_bn (BatchNormal  (None, 2, 2, 512)   2048        ['conv5_block3_1_conv[0][0]']    \n",
            " ization)                                                                                         \n",
            "                                                                                                  \n",
            " conv5_block3_1_relu (Activatio  (None, 2, 2, 512)   0           ['conv5_block3_1_bn[0][0]']      \n",
            " n)                                                                                               \n",
            "                                                                                                  \n",
            " conv5_block3_2_conv (Conv2D)   (None, 2, 2, 512)    2359808     ['conv5_block3_1_relu[0][0]']    \n",
            "                                                                                                  \n",
            " conv5_block3_2_bn (BatchNormal  (None, 2, 2, 512)   2048        ['conv5_block3_2_conv[0][0]']    \n",
            " ization)                                                                                         \n",
            "                                                                                                  \n",
            " conv5_block3_2_relu (Activatio  (None, 2, 2, 512)   0           ['conv5_block3_2_bn[0][0]']      \n",
            " n)                                                                                               \n",
            "                                                                                                  \n",
            " conv5_block3_3_conv (Conv2D)   (None, 2, 2, 2048)   1050624     ['conv5_block3_2_relu[0][0]']    \n",
            "                                                                                                  \n",
            " conv5_block3_3_bn (BatchNormal  (None, 2, 2, 2048)  8192        ['conv5_block3_3_conv[0][0]']    \n",
            " ization)                                                                                         \n",
            "                                                                                                  \n",
            " conv5_block3_add (Add)         (None, 2, 2, 2048)   0           ['conv5_block2_out[0][0]',       \n",
            "                                                                  'conv5_block3_3_bn[0][0]']      \n",
            "                                                                                                  \n",
            " conv5_block3_out (Activation)  (None, 2, 2, 2048)   0           ['conv5_block3_add[0][0]']       \n",
            "                                                                                                  \n",
            " flatten (Flatten)              (None, 8192)         0           ['conv5_block3_out[0][0]']       \n",
            "                                                                                                  \n",
            " dense (Dense)                  (None, 12)           98316       ['flatten[0][0]']                \n",
            "                                                                                                  \n",
            "==================================================================================================\n",
            "Total params: 23,686,028\n",
            "Trainable params: 98,316\n",
            "Non-trainable params: 23,587,712\n",
            "__________________________________________________________________________________________________\n"
          ]
        }
      ],
      "source": [
        "# view the structure of the model\n",
        "model.summary()"
      ]
    },
    {
      "cell_type": "code",
      "execution_count": null,
      "metadata": {
        "id": "qLvVOTpYOmS9"
      },
      "outputs": [],
      "source": [
        "# tell the model what cost and optimization method to use\n",
        "model.compile(\n",
        "  loss='categorical_crossentropy',\n",
        "  optimizer='adam',\n",
        "  metrics=['accuracy']\n",
        ")"
      ]
    },
    {
      "cell_type": "code",
      "execution_count": null,
      "metadata": {
        "id": "ZfN-092fO1K1"
      },
      "outputs": [],
      "source": [
        "# Use the Image Data Generator to import the images from the dataset\n",
        "from tensorflow.keras.preprocessing.image import ImageDataGenerator\n",
        "\n",
        "train_datagen = ImageDataGenerator(rescale = 1./255,\n",
        "                                   shear_range = 0.2,\n",
        "                                   zoom_range = 0.2,\n",
        "                                   horizontal_flip = True)\n",
        "\n",
        "test_datagen = ImageDataGenerator(rescale = 1./255)"
      ]
    },
    {
      "cell_type": "code",
      "execution_count": null,
      "metadata": {
        "colab": {
          "base_uri": "https://localhost:8080/"
        },
        "id": "BJQmACNLO51f",
        "outputId": "33280aa6-a389-4743-a2e7-c376c2e85848"
      },
      "outputs": [
        {
          "name": "stdout",
          "output_type": "stream",
          "text": [
            "Found 2033 images belonging to 12 classes.\n"
          ]
        }
      ],
      "source": [
        "# Make sure you provide the same target size as initialied for the image size\n",
        "training_set = train_datagen.flow_from_directory('/content/drive/MyDrive/Colab Notebooks/Project-major/Licenseplate_recognization-master/images_train',\n",
        "                                                 target_size = (50, 50),\n",
        "                                                 batch_size = 32,\n",
        "                                                 class_mode = 'categorical')"
      ]
    },
    {
      "cell_type": "code",
      "execution_count": null,
      "metadata": {
        "colab": {
          "base_uri": "https://localhost:8080/"
        },
        "id": "sq6n6PVgPzgW",
        "outputId": "5661cd95-feed-457b-85d6-e644dc1cc33f"
      },
      "outputs": [
        {
          "data": {
            "text/plain": [
              "{'0': 0,\n",
              " '1': 1,\n",
              " '2': 2,\n",
              " '3': 3,\n",
              " '4': 4,\n",
              " '5': 5,\n",
              " '6': 6,\n",
              " '7': 7,\n",
              " '8': 8,\n",
              " '9': 9,\n",
              " 'BA': 10,\n",
              " 'PA': 11}"
            ]
          },
          "execution_count": 12,
          "metadata": {},
          "output_type": "execute_result"
        }
      ],
      "source": [
        "training_set.class_indices"
      ]
    },
    {
      "cell_type": "code",
      "execution_count": null,
      "metadata": {
        "colab": {
          "base_uri": "https://localhost:8080/"
        },
        "id": "tnpDnCL3Q0oF",
        "outputId": "a07d0ba8-a65c-47f1-9d69-42e9b65a5595"
      },
      "outputs": [
        {
          "name": "stdout",
          "output_type": "stream",
          "text": [
            "Found 413 images belonging to 12 classes.\n"
          ]
        }
      ],
      "source": [
        "# test_set = test_datagen.flow_from_directory('/content/drive/MyDrive/Colab Notebooks/Project-major/Licenseplate_recognization-master/images_test',\n",
        "#                                             target_size = (50, 50),\n",
        "#                                             batch_size = 32,\n",
        "#                                             class_mode = 'categorical')\n",
        "\n",
        "test_set = test_datagen.flow_from_directory('/content/drive/MyDrive/Colab Notebooks/Project-major/Licenseplate_recognization-master/test_data',\n",
        "                                            target_size = (50, 50),\n",
        "                                            batch_size = 32,\n",
        "                                            class_mode = 'categorical')"
      ]
    },
    {
      "cell_type": "code",
      "execution_count": null,
      "metadata": {
        "colab": {
          "background_save": true,
          "base_uri": "https://localhost:8080/"
        },
        "id": "8XcMp0ysRzws",
        "outputId": "4c049d84-b8fa-48c8-9f0c-485eb1cfe711"
      },
      "outputs": [
        {
          "name": "stdout",
          "output_type": "stream",
          "text": [
            "Epoch 1/50\n",
            "64/64 [==============================] - 537s 8s/step - loss: 2.4639 - accuracy: 0.1220 - val_loss: 2.4056 - val_accuracy: 0.1332\n",
            "Epoch 2/50\n",
            "64/64 [==============================] - 37s 586ms/step - loss: 2.3651 - accuracy: 0.1771 - val_loss: 2.3159 - val_accuracy: 0.2373\n",
            "Epoch 3/50\n",
            "64/64 [==============================] - 38s 589ms/step - loss: 2.2934 - accuracy: 0.2130 - val_loss: 2.2522 - val_accuracy: 0.2131\n",
            "Epoch 4/50\n",
            "64/64 [==============================] - 37s 584ms/step - loss: 2.2263 - accuracy: 0.2528 - val_loss: 2.2404 - val_accuracy: 0.2228\n",
            "Epoch 5/50\n",
            "64/64 [==============================] - 38s 587ms/step - loss: 2.1821 - accuracy: 0.2700 - val_loss: 2.1647 - val_accuracy: 0.2663\n",
            "Epoch 6/50\n",
            "64/64 [==============================] - 38s 589ms/step - loss: 2.1270 - accuracy: 0.3148 - val_loss: 2.1122 - val_accuracy: 0.3293\n",
            "Epoch 7/50\n",
            "64/64 [==============================] - 38s 588ms/step - loss: 2.0806 - accuracy: 0.3379 - val_loss: 2.1104 - val_accuracy: 0.3390\n",
            "Epoch 8/50\n",
            "64/64 [==============================] - 37s 579ms/step - loss: 2.0450 - accuracy: 0.3360 - val_loss: 2.0344 - val_accuracy: 0.3753\n",
            "Epoch 9/50\n",
            "64/64 [==============================] - 37s 577ms/step - loss: 2.0175 - accuracy: 0.3463 - val_loss: 2.0383 - val_accuracy: 0.3002\n",
            "Epoch 10/50\n",
            "64/64 [==============================] - 37s 570ms/step - loss: 1.9927 - accuracy: 0.3709 - val_loss: 1.9966 - val_accuracy: 0.3632\n",
            "Epoch 11/50\n",
            "64/64 [==============================] - 37s 571ms/step - loss: 1.9471 - accuracy: 0.3743 - val_loss: 1.9844 - val_accuracy: 0.3341\n",
            "Epoch 12/50\n",
            "64/64 [==============================] - 37s 574ms/step - loss: 1.9289 - accuracy: 0.3876 - val_loss: 1.9802 - val_accuracy: 0.4116\n",
            "Epoch 13/50\n",
            "64/64 [==============================] - 37s 577ms/step - loss: 1.9090 - accuracy: 0.4053 - val_loss: 1.9256 - val_accuracy: 0.4213\n",
            "Epoch 14/50\n",
            "64/64 [==============================] - 37s 582ms/step - loss: 1.8792 - accuracy: 0.4137 - val_loss: 1.8970 - val_accuracy: 0.3898\n",
            "Epoch 15/50\n",
            "64/64 [==============================] - 37s 579ms/step - loss: 1.8519 - accuracy: 0.4142 - val_loss: 1.8804 - val_accuracy: 0.4140\n",
            "Epoch 16/50\n",
            "64/64 [==============================] - 37s 579ms/step - loss: 1.8359 - accuracy: 0.4132 - val_loss: 1.8623 - val_accuracy: 0.4334\n",
            "Epoch 17/50\n",
            "64/64 [==============================] - 38s 585ms/step - loss: 1.8180 - accuracy: 0.4304 - val_loss: 1.8442 - val_accuracy: 0.4262\n",
            "Epoch 18/50\n",
            "64/64 [==============================] - 37s 574ms/step - loss: 1.8008 - accuracy: 0.4284 - val_loss: 1.8057 - val_accuracy: 0.4407\n",
            "Epoch 19/50\n",
            "64/64 [==============================] - 37s 577ms/step - loss: 1.7942 - accuracy: 0.4407 - val_loss: 1.8015 - val_accuracy: 0.4697\n",
            "Epoch 20/50\n",
            "64/64 [==============================] - 37s 578ms/step - loss: 1.8025 - accuracy: 0.4284 - val_loss: 1.7755 - val_accuracy: 0.4770\n",
            "Epoch 21/50\n",
            "64/64 [==============================] - 40s 629ms/step - loss: 1.7609 - accuracy: 0.4550 - val_loss: 1.7747 - val_accuracy: 0.4455\n",
            "Epoch 22/50\n",
            "64/64 [==============================] - 45s 694ms/step - loss: 1.7264 - accuracy: 0.4565 - val_loss: 1.7693 - val_accuracy: 0.4455\n",
            "Epoch 23/50\n",
            "64/64 [==============================] - 36s 559ms/step - loss: 1.7343 - accuracy: 0.4742 - val_loss: 1.7708 - val_accuracy: 0.4237\n",
            "Epoch 24/50\n",
            "64/64 [==============================] - 36s 555ms/step - loss: 1.7155 - accuracy: 0.4624 - val_loss: 1.7554 - val_accuracy: 0.4334\n",
            "Epoch 25/50\n",
            "64/64 [==============================] - 43s 665ms/step - loss: 1.6833 - accuracy: 0.4801 - val_loss: 1.7027 - val_accuracy: 0.4988\n",
            "Epoch 26/50\n",
            "64/64 [==============================] - 35s 548ms/step - loss: 1.6863 - accuracy: 0.4722 - val_loss: 1.7135 - val_accuracy: 0.4673\n",
            "Epoch 27/50\n",
            "64/64 [==============================] - 35s 545ms/step - loss: 1.6789 - accuracy: 0.4806 - val_loss: 1.7109 - val_accuracy: 0.5085\n",
            "Epoch 28/50\n",
            "64/64 [==============================] - 35s 543ms/step - loss: 1.6678 - accuracy: 0.4943 - val_loss: 1.7207 - val_accuracy: 0.4552\n",
            "Epoch 29/50\n",
            "64/64 [==============================] - 35s 542ms/step - loss: 1.6522 - accuracy: 0.4943 - val_loss: 1.6872 - val_accuracy: 0.4722\n",
            "Epoch 30/50\n",
            "64/64 [==============================] - 35s 540ms/step - loss: 1.6513 - accuracy: 0.4697 - val_loss: 1.6668 - val_accuracy: 0.5012\n",
            "Epoch 31/50\n",
            "64/64 [==============================] - 35s 545ms/step - loss: 1.6031 - accuracy: 0.5012 - val_loss: 1.6496 - val_accuracy: 0.4867\n",
            "Epoch 32/50\n",
            "64/64 [==============================] - 35s 543ms/step - loss: 1.6154 - accuracy: 0.4993 - val_loss: 1.6443 - val_accuracy: 0.4939\n",
            "Epoch 33/50\n",
            "64/64 [==============================] - 35s 549ms/step - loss: 1.6010 - accuracy: 0.5032 - val_loss: 1.6532 - val_accuracy: 0.4891\n",
            "Epoch 34/50\n",
            "64/64 [==============================] - 35s 546ms/step - loss: 1.5937 - accuracy: 0.5165 - val_loss: 1.6701 - val_accuracy: 0.4649\n",
            "Epoch 35/50\n",
            "64/64 [==============================] - 35s 546ms/step - loss: 1.5729 - accuracy: 0.5145 - val_loss: 1.6350 - val_accuracy: 0.4673\n",
            "Epoch 36/50\n",
            "64/64 [==============================] - 35s 546ms/step - loss: 1.5789 - accuracy: 0.5150 - val_loss: 1.5933 - val_accuracy: 0.5303\n",
            "Epoch 37/50\n",
            "64/64 [==============================] - 35s 546ms/step - loss: 1.5723 - accuracy: 0.5071 - val_loss: 1.5905 - val_accuracy: 0.5303\n",
            "Epoch 38/50\n",
            "64/64 [==============================] - 35s 550ms/step - loss: 1.5605 - accuracy: 0.5155 - val_loss: 1.6234 - val_accuracy: 0.4697\n",
            "Epoch 39/50\n",
            "64/64 [==============================] - 36s 562ms/step - loss: 1.5541 - accuracy: 0.5214 - val_loss: 1.5744 - val_accuracy: 0.5157\n",
            "Epoch 40/50\n",
            "64/64 [==============================] - 37s 577ms/step - loss: 1.5299 - accuracy: 0.5357 - val_loss: 1.5603 - val_accuracy: 0.5424\n",
            "Epoch 41/50\n",
            "64/64 [==============================] - 37s 576ms/step - loss: 1.5501 - accuracy: 0.5278 - val_loss: 1.6004 - val_accuracy: 0.4673\n",
            "Epoch 42/50\n",
            "64/64 [==============================] - 37s 578ms/step - loss: 1.5304 - accuracy: 0.5298 - val_loss: 1.5888 - val_accuracy: 0.4722\n",
            "Epoch 43/50\n",
            "64/64 [==============================] - 37s 579ms/step - loss: 1.5273 - accuracy: 0.5263 - val_loss: 1.5863 - val_accuracy: 0.5036\n",
            "Epoch 44/50\n",
            "64/64 [==============================] - 38s 596ms/step - loss: 1.5230 - accuracy: 0.5278 - val_loss: 1.5466 - val_accuracy: 0.5400\n",
            "Epoch 45/50\n",
            "64/64 [==============================] - 38s 588ms/step - loss: 1.5215 - accuracy: 0.5362 - val_loss: 1.5093 - val_accuracy: 0.5835\n",
            "Epoch 46/50\n",
            "64/64 [==============================] - 37s 575ms/step - loss: 1.5103 - accuracy: 0.5450 - val_loss: 1.5185 - val_accuracy: 0.5593\n",
            "Epoch 47/50\n",
            "64/64 [==============================] - 36s 562ms/step - loss: 1.4744 - accuracy: 0.5598 - val_loss: 1.5387 - val_accuracy: 0.5012\n",
            "Epoch 48/50\n",
            "64/64 [==============================] - 36s 562ms/step - loss: 1.4718 - accuracy: 0.5681 - val_loss: 1.5005 - val_accuracy: 0.5666\n",
            "Epoch 49/50\n",
            "64/64 [==============================] - 36s 564ms/step - loss: 1.4740 - accuracy: 0.5514 - val_loss: 1.5237 - val_accuracy: 0.5206\n",
            "Epoch 50/50\n",
            "64/64 [==============================] - 36s 568ms/step - loss: 1.4767 - accuracy: 0.5470 - val_loss: 1.5047 - val_accuracy: 0.5448\n"
          ]
        }
      ],
      "source": [
        "# fit the model\n",
        "# Run the cell. It will take some time to execute\n",
        "\n",
        "# r = model.fit_generator(\n",
        "#   training_set,\n",
        "#   validation_data=test_set,\n",
        "#   epochs=10,\n",
        "#   steps_per_epoch=len(training_set),\n",
        "#   validation_steps=len(test_set)\n",
        "# )\n",
        "\n",
        "r = model.fit(training_set,\n",
        "                    epochs = 50,\n",
        "                    steps_per_epoch=len(training_set),\n",
        "                    validation_data = test_set,\n",
        "                    validation_steps=len(test_set)\n",
        "                    )"
      ]
    },
    {
      "cell_type": "code",
      "execution_count": null,
      "metadata": {
        "colab": {
          "base_uri": "https://localhost:8080/",
          "height": 531
        },
        "id": "TxlVzCg1T2O_",
        "outputId": "40486bbd-5c86-4768-9838-5daab984622b"
      },
      "outputs": [
        {
          "data": {
            "image/png": "[encoded data removed]",
            "text/plain": [
              "<Figure size 432x288 with 1 Axes>"
            ]
          },
          "metadata": {},
          "output_type": "display_data"
        },
        {
          "data": {
            "image/png": "[encoded data removed]",
            "text/plain": [
              "<Figure size 432x288 with 1 Axes>"
            ]
          },
          "metadata": {},
          "output_type": "display_data"
        },
        {
          "data": {
            "text/plain": [
              "<Figure size 432x288 with 0 Axes>"
            ]
          },
          "metadata": {},
          "output_type": "display_data"
        }
      ],
      "source": [
        "# plot the loss\n",
        "plt.plot(r.history['loss'], label='train loss')\n",
        "plt.plot(r.history['val_loss'], label='val loss')\n",
        "plt.legend()\n",
        "plt.show()\n",
        "plt.savefig('LossVal_loss')\n",
        "\n",
        "\n",
        "# plot the accuracy\n",
        "plt.plot(r.history['accuracy'], label='train acc')\n",
        "plt.plot(r.history['val_accuracy'], label='val acc')\n",
        "plt.legend()\n",
        "plt.show()\n",
        "plt.savefig('AccVal_acc')"
      ]
    },
    {
      "cell_type": "code",
      "execution_count": null,
      "metadata": {
        "id": "E9NwgczgX_9L"
      },
      "outputs": [],
      "source": [
        "# save it as h5 file\n",
        "\n",
        "from tensorflow.keras.models import load_model\n",
        "\n",
        "model.save('model_resnet50.h5')"
      ]
    },
    {
      "cell_type": "code",
      "execution_count": null,
      "metadata": {
        "id": "rxE4-XI-YP2B"
      },
      "outputs": [],
      "source": [
        "y_pred = model.predict(test_set)"
      ]
    },
    {
      "cell_type": "code",
      "execution_count": null,
      "metadata": {
        "colab": {
          "base_uri": "https://localhost:8080/"
        },
        "id": "4X-o8PA7YW3e",
        "outputId": "7f43d43b-547a-49ec-b1ce-27e5104d46b3"
      },
      "outputs": [
        {
          "data": {
            "text/plain": [
              "array([[8.1125362e-04, 1.4273229e-02, 6.3322648e-02, ..., 2.0527707e-02,\n",
              "        3.1962928e-03, 2.1329811e-02],\n",
              "       [4.1030195e-02, 1.1504804e-02, 2.9306877e-01, ..., 1.2770972e-01,\n",
              "        2.7843982e-03, 3.8104642e-02],\n",
              "       [4.0651078e-04, 1.2868705e-03, 4.3812092e-02, ..., 1.6440110e-02,\n",
              "        7.3388376e-04, 1.2209265e-04],\n",
              "       ...,\n",
              "       [4.3863696e-03, 1.9313877e-02, 4.5765946e-03, ..., 3.3575390e-02,\n",
              "        6.9925329e-04, 3.6519144e-02],\n",
              "       [1.6842911e-02, 5.4817222e-02, 1.3993391e-02, ..., 2.3633596e-02,\n",
              "        7.0228286e-02, 2.6172414e-01],\n",
              "       [3.1901938e-03, 1.8292055e-02, 1.3263727e-02, ..., 2.0285521e-02,\n",
              "        3.2553107e-01, 1.6148910e-02]], dtype=float32)"
            ]
          },
          "execution_count": 49,
          "metadata": {},
          "output_type": "execute_result"
        }
      ],
      "source": [
        "y_pred"
      ]
    },
    {
      "cell_type": "code",
      "execution_count": null,
      "metadata": {
        "id": "KFrMK6QiYc4X"
      },
      "outputs": [],
      "source": [
        "import numpy as np\n",
        "y_pred = np.argmax(y_pred, axis=1)"
      ]
    },
    {
      "cell_type": "code",
      "execution_count": null,
      "metadata": {
        "colab": {
          "base_uri": "https://localhost:8080/"
        },
        "id": "U25FgiIhYq6s",
        "outputId": "fee85d0e-d249-4d5a-c5b7-3201e433af16"
      },
      "outputs": [
        {
          "data": {
            "text/plain": [
              "array([ 4,  2,  6,  3,  3, 11,  4,  8,  2, 10,  9,  3,  9,  2,  9,  9,  2,\n",
              "        1,  1, 11, 11,  5,  3,  2,  3,  2,  3,  9,  9, 10,  2, 11,  7, 10,\n",
              "        2,  8,  5, 10, 11, 11, 10, 10,  9, 10,  5,  5,  3,  2,  3,  3, 10,\n",
              "        1,  5,  7,  2,  8,  3,  0, 11,  1,  6,  7, 10, 11, 10,  2,  5,  0,\n",
              "        7,  3, 11,  7,  2, 10,  1,  9, 10,  7, 11, 10, 11, 10,  3,  3,  0,\n",
              "        3,  6, 10,  3,  5,  0,  4,  0,  3,  7,  2,  5, 10,  5,  3, 11,  4,\n",
              "       10,  5,  1,  0,  0,  6, 10,  4, 10,  1, 10,  1,  3, 10,  2, 11,  5,\n",
              "        7,  3,  3,  7,  3,  5,  9,  3,  5,  2,  8,  1,  5,  2,  4, 11,  3,\n",
              "        2,  8, 10, 10,  3,  7,  1,  3,  3,  4,  3, 11, 10,  1,  1,  3,  9,\n",
              "       11,  9,  0,  0, 10,  1,  0,  5,  1,  7,  6,  7,  1,  4,  8, 11, 11,\n",
              "       10, 10,  1,  9,  2,  3,  5, 10,  1, 11,  7,  4,  6,  9,  9,  3, 11,\n",
              "        8, 10,  2,  4,  9,  3,  1, 10, 10,  3, 11, 11, 10,  1,  1,  4,  2,\n",
              "        8, 11,  8,  2,  6,  8,  9,  1,  3,  5,  5,  5, 10,  3,  7,  1,  0,\n",
              "       11,  7, 11,  4,  2,  0, 11, 10,  4,  1,  3, 11,  8,  8,  3,  9, 10,\n",
              "       11,  1,  1,  5, 10,  0,  2,  2,  9, 11, 10, 10,  0,  5,  7,  3, 11,\n",
              "       11,  8,  3,  7, 11,  9,  5,  8,  3,  3,  1,  6,  0,  5, 10,  5,  9,\n",
              "       10,  6,  6,  7, 11,  9,  7, 11, 11,  7,  6,  3,  2,  5, 11, 11,  9,\n",
              "        1, 11,  3, 11, 11,  9, 11,  2, 10,  7,  8,  2,  0,  0,  7,  9,  4,\n",
              "        7, 10,  3,  2,  0,  5, 10,  5,  3,  1, 11,  0, 10, 11, 11,  3,  3,\n",
              "       11,  2,  3, 10,  5,  0,  3,  3, 10, 11,  4,  7, 10,  1,  7,  8, 10,\n",
              "        7,  9,  7,  4,  1,  2, 11,  9,  3,  4, 11,  8,  7, 10,  9,  4,  1,\n",
              "        4,  5,  8,  6, 10,  1,  4,  3, 11,  4, 10, 11, 10, 11,  1,  6, 10,\n",
              "        9, 10,  4,  7,  9,  5, 11, 10,  1,  7,  2,  3,  2,  6, 10, 10,  1,\n",
              "        2,  5,  9,  3,  3,  0,  5,  1,  3,  7,  5,  9,  3, 11, 11, 10,  8,\n",
              "       10,  4,  5,  7,  5])"
            ]
          },
          "execution_count": 51,
          "metadata": {},
          "output_type": "execute_result"
        }
      ],
      "source": [
        "y_pred"
      ]
    },
    {
      "cell_type": "code",
      "execution_count": null,
      "metadata": {
        "id": "fZzfe-9DY1L4"
      },
      "outputs": [],
      "source": [
        ""
      ]
    },
    {
      "cell_type": "code",
      "execution_count": null,
      "metadata": {
        "id": "QifIUJ8eY3A2"
      },
      "outputs": [],
      "source": [
        "from tensorflow.keras.models import load_model\n",
        "from tensorflow.keras.preprocessing import image"
      ]
    },
    {
      "cell_type": "code",
      "execution_count": null,
      "metadata": {
        "id": "MjxgPqDPZKJg"
      },
      "outputs": [],
      "source": [
        "model = load_model('model_resnet50.h5')"
      ]
    },
    {
      "cell_type": "code",
      "execution_count": null,
      "metadata": {
        "id": "rQjj6Y9sZSVY"
      },
      "outputs": [],
      "source": [
        "# img_data"
      ]
    },
    {
      "cell_type": "code",
      "execution_count": null,
      "metadata": {
        "id": "69ASxasXahyE"
      },
      "outputs": [],
      "source": [
        "img = image.load_img('/content/drive/MyDrive/Colab Notebooks/Project-major/Licenseplate_recognization-master/test1.jpg')"
      ]
    },
    {
      "cell_type": "code",
      "execution_count": null,
      "metadata": {
        "colab": {
          "base_uri": "https://localhost:8080/"
        },
        "id": "5OB3vLekbCDj",
        "outputId": "9336dd5d-8083-43ca-93fb-c5825489ac3f"
      },
      "outputs": [
        {
          "data": {
            "text/plain": [
              "array([[[242., 226., 237.],\n",
              "        [242., 226., 237.],\n",
              "        [242., 226., 239.],\n",
              "        ...,\n",
              "        [255., 255., 255.],\n",
              "        [255., 255., 255.],\n",
              "        [255., 255., 255.]],\n",
              "\n",
              "       [[242., 226., 237.],\n",
              "        [242., 226., 237.],\n",
              "        [242., 226., 239.],\n",
              "        ...,\n",
              "        [255., 255., 255.],\n",
              "        [255., 255., 255.],\n",
              "        [255., 255., 255.]],\n",
              "\n",
              "       [[243., 227., 238.],\n",
              "        [243., 227., 238.],\n",
              "        [242., 226., 239.],\n",
              "        ...,\n",
              "        [255., 255., 255.],\n",
              "        [255., 255., 255.],\n",
              "        [255., 255., 255.]],\n",
              "\n",
              "       ...,\n",
              "\n",
              "       [[ 97.,  86.,  84.],\n",
              "        [102.,  91.,  89.],\n",
              "        [112., 101.,  99.],\n",
              "        ...,\n",
              "        [139., 149., 140.],\n",
              "        [140., 150., 141.],\n",
              "        [147., 157., 148.]],\n",
              "\n",
              "       [[118., 107., 105.],\n",
              "        [112., 101.,  99.],\n",
              "        [108.,  97.,  95.],\n",
              "        ...,\n",
              "        [137., 147., 138.],\n",
              "        [132., 142., 133.],\n",
              "        [134., 144., 135.]],\n",
              "\n",
              "       [[127., 116., 114.],\n",
              "        [122., 111., 109.],\n",
              "        [ 99.,  88.,  86.],\n",
              "        ...,\n",
              "        [146., 156., 147.],\n",
              "        [135., 145., 136.],\n",
              "        [131., 141., 132.]]], dtype=float32)"
            ]
          },
          "execution_count": 62,
          "metadata": {},
          "output_type": "execute_result"
        }
      ],
      "source": [
        "x = image.img_to_array(img)\n",
        "x"
      ]
    },
    {
      "cell_type": "code",
      "execution_count": null,
      "metadata": {
        "colab": {
          "base_uri": "https://localhost:8080/"
        },
        "id": "4YVlg15fbM3m",
        "outputId": "8ea486e3-18de-4517-ee4a-daef329fee0f"
      },
      "outputs": [
        {
          "data": {
            "text/plain": [
              "(4000, 3000, 3)"
            ]
          },
          "execution_count": 63,
          "metadata": {},
          "output_type": "execute_result"
        }
      ],
      "source": [
        "x.shape\n",
        "# kina yeti dherai large number ko shape aayo why?????????"
      ]
    },
    {
      "cell_type": "code",
      "execution_count": null,
      "metadata": {
        "id": "6UO9IkQZbSzg"
      },
      "outputs": [],
      "source": [
        "x = x/"
      ]
    },
    {
      "cell_type": "code",
      "execution_count": null,
      "metadata": {
        "colab": {
          "background_save": true
        },
        "id": "A-k-n0S7SKIE"
      },
      "outputs": [],
      "source": [
        "# khom"
      ]
    }
  ],
  "metadata": {
    "accelerator": "TPU",
    "colab": {
      "collapsed_sections": [],
      "name": "final_project.ipynb",
      "provenance": [],
      "mount_file_id": "163fU3qj6FX565ngZTuMKLNrNQ5Uriw7Y",
      "authorship_tag": "ABX9TyN4tJ1ax/JinpJ8ZhujHBcg",
      "include_colab_link": true
    },
    "gpuClass": "standard",
    "kernelspec": {
      "display_name": "Python 3",
      "name": "python3"
    },
    "language_info": {
      "name": "python"
    }
  },
  "nbformat": 4,
  "nbformat_minor": 0
}